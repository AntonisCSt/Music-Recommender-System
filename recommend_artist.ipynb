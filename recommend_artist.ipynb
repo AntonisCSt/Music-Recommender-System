{
 "cells": [
  {
   "cell_type": "code",
   "execution_count": 32,
   "metadata": {},
   "outputs": [],
   "source": [
    "#The basic code was borrowed by this kaggle notebook: https://www.kaggle.com/code/pegahpooya/spotify-playlists-recommender-system\n",
    "#please give a like to the creator!!!!!"
   ]
  },
  {
   "cell_type": "code",
   "execution_count": 2,
   "metadata": {},
   "outputs": [
    {
     "name": "stderr",
     "output_type": "stream",
     "text": [
      "c:\\Users\\AX-St\\.virtualenvs\\Music-Recommender-System-KBCNrsiN\\lib\\site-packages\\lightfm\\_lightfm_fast.py:9: UserWarning: LightFM was compiled without OpenMP support. Only a single thread will be used.\n",
      "  warnings.warn(\n"
     ]
    }
   ],
   "source": [
    "#Importing libraries\n",
    "\n",
    "import numpy as np \n",
    "import pandas as pd \n",
    "import warnings\n",
    "warnings.simplefilter(action='ignore', category=FutureWarning)\n",
    "from scipy import sparse\n",
    "import random\n",
    "import lightfm\n",
    "from lightfm import LightFM, cross_validation\n",
    "from lightfm.evaluation import precision_at_k, auc_score\n",
    "from sklearn.metrics.pairwise import cosine_similarity\n",
    "import pickle\n",
    "\n",
    "import matplotlib.pyplot as plt"
   ]
  },
  {
   "cell_type": "code",
   "execution_count": 3,
   "metadata": {},
   "outputs": [
    {
     "data": {
      "text/html": [
       "<div>\n",
       "<style scoped>\n",
       "    .dataframe tbody tr th:only-of-type {\n",
       "        vertical-align: middle;\n",
       "    }\n",
       "\n",
       "    .dataframe tbody tr th {\n",
       "        vertical-align: top;\n",
       "    }\n",
       "\n",
       "    .dataframe thead th {\n",
       "        text-align: right;\n",
       "    }\n",
       "</style>\n",
       "<table border=\"1\" class=\"dataframe\">\n",
       "  <thead>\n",
       "    <tr style=\"text-align: right;\">\n",
       "      <th></th>\n",
       "      <th>user_id</th>\n",
       "      <th>\"artistname\"</th>\n",
       "      <th>\"trackname\"</th>\n",
       "      <th>\"playlistname\"</th>\n",
       "    </tr>\n",
       "  </thead>\n",
       "  <tbody>\n",
       "    <tr>\n",
       "      <th>0</th>\n",
       "      <td>9cc0cfd4d7d7885102480dd99e7a90d6</td>\n",
       "      <td>Tiffany Page</td>\n",
       "      <td>7 Years Too Late</td>\n",
       "      <td>HARD ROCK 2010</td>\n",
       "    </tr>\n",
       "    <tr>\n",
       "      <th>1</th>\n",
       "      <td>9cc0cfd4d7d7885102480dd99e7a90d6</td>\n",
       "      <td>Elvis Costello</td>\n",
       "      <td>Alison</td>\n",
       "      <td>HARD ROCK 2010</td>\n",
       "    </tr>\n",
       "    <tr>\n",
       "      <th>2</th>\n",
       "      <td>9cc0cfd4d7d7885102480dd99e7a90d6</td>\n",
       "      <td>Paul McCartney</td>\n",
       "      <td>Band On The Run</td>\n",
       "      <td>HARD ROCK 2010</td>\n",
       "    </tr>\n",
       "    <tr>\n",
       "      <th>3</th>\n",
       "      <td>9cc0cfd4d7d7885102480dd99e7a90d6</td>\n",
       "      <td>Lissie</td>\n",
       "      <td>Bright Side</td>\n",
       "      <td>HARD ROCK 2010</td>\n",
       "    </tr>\n",
       "    <tr>\n",
       "      <th>4</th>\n",
       "      <td>9cc0cfd4d7d7885102480dd99e7a90d6</td>\n",
       "      <td>Paul McCartney</td>\n",
       "      <td>Dance Tonight</td>\n",
       "      <td>HARD ROCK 2010</td>\n",
       "    </tr>\n",
       "  </tbody>\n",
       "</table>\n",
       "</div>"
      ],
      "text/plain": [
       "                            user_id    \"artistname\"       \"trackname\"  \\\n",
       "0  9cc0cfd4d7d7885102480dd99e7a90d6    Tiffany Page  7 Years Too Late   \n",
       "1  9cc0cfd4d7d7885102480dd99e7a90d6  Elvis Costello            Alison   \n",
       "2  9cc0cfd4d7d7885102480dd99e7a90d6  Paul McCartney   Band On The Run   \n",
       "3  9cc0cfd4d7d7885102480dd99e7a90d6          Lissie       Bright Side   \n",
       "4  9cc0cfd4d7d7885102480dd99e7a90d6  Paul McCartney     Dance Tonight   \n",
       "\n",
       "   \"playlistname\"  \n",
       "0  HARD ROCK 2010  \n",
       "1  HARD ROCK 2010  \n",
       "2  HARD ROCK 2010  \n",
       "3  HARD ROCK 2010  \n",
       "4  HARD ROCK 2010  "
      ]
     },
     "execution_count": 3,
     "metadata": {},
     "output_type": "execute_result"
    }
   ],
   "source": [
    "p = 0.5 # 50% of data due to high ammount\n",
    "\n",
    "df_playlist = pd.read_csv('data\\spotify_dataset.csv', error_bad_lines=False, warn_bad_lines=False, skiprows=lambda i: i>0 and random.random() > p)\n",
    "df_playlist.head()"
   ]
  },
  {
   "cell_type": "code",
   "execution_count": 4,
   "metadata": {},
   "outputs": [
    {
     "data": {
      "text/plain": [
       "(6445673, 4)"
      ]
     },
     "execution_count": 4,
     "metadata": {},
     "output_type": "execute_result"
    }
   ],
   "source": [
    "df_playlist.shape"
   ]
  },
  {
   "cell_type": "code",
   "execution_count": 5,
   "metadata": {},
   "outputs": [
    {
     "data": {
      "text/plain": [
       "Index(['user_id', 'artist', 'track', 'playlist'], dtype='object')"
      ]
     },
     "execution_count": 5,
     "metadata": {},
     "output_type": "execute_result"
    }
   ],
   "source": [
    "df_playlist.columns = df_playlist.columns.str.replace('\"', '')\n",
    "df_playlist.columns = df_playlist.columns.str.replace('name', '')\n",
    "df_playlist.columns = df_playlist.columns.str.replace(' ', '')\n",
    "df_playlist.columns"
   ]
  },
  {
   "cell_type": "code",
   "execution_count": 6,
   "metadata": {},
   "outputs": [],
   "source": [
    "#For recommender system, I'm only keeping the artists with frequency higher than 50\n",
    "df_playlist = df_playlist.groupby('artist').filter(lambda x : len(x)>=50)\n",
    "#And keeping the users with at least 10 unique artists in their playlists to lessen the impact of cold start problem\n",
    "df_playlist = df_playlist[df_playlist.groupby('user_id').artist.transform('nunique') >= 10]"
   ]
  },
  {
   "cell_type": "code",
   "execution_count": 7,
   "metadata": {},
   "outputs": [
    {
     "data": {
      "text/html": [
       "<div>\n",
       "<style scoped>\n",
       "    .dataframe tbody tr th:only-of-type {\n",
       "        vertical-align: middle;\n",
       "    }\n",
       "\n",
       "    .dataframe tbody tr th {\n",
       "        vertical-align: top;\n",
       "    }\n",
       "\n",
       "    .dataframe thead th {\n",
       "        text-align: right;\n",
       "    }\n",
       "</style>\n",
       "<table border=\"1\" class=\"dataframe\">\n",
       "  <thead>\n",
       "    <tr style=\"text-align: right;\">\n",
       "      <th></th>\n",
       "      <th>user_id</th>\n",
       "      <th>artist</th>\n",
       "      <th>freq</th>\n",
       "    </tr>\n",
       "  </thead>\n",
       "  <tbody>\n",
       "    <tr>\n",
       "      <th>246766</th>\n",
       "      <td>26b51e580277e131f87e4c7ee4c0887a</td>\n",
       "      <td>Vitamin String Quartet</td>\n",
       "      <td>1654</td>\n",
       "    </tr>\n",
       "    <tr>\n",
       "      <th>1392284</th>\n",
       "      <td>defced0ece4ce946160b0d2698142eac</td>\n",
       "      <td>Vitamin String Quartet</td>\n",
       "      <td>1643</td>\n",
       "    </tr>\n",
       "    <tr>\n",
       "      <th>412399</th>\n",
       "      <td>414050deadb38aafd8d4ad22ca634055</td>\n",
       "      <td>Vitamin String Quartet</td>\n",
       "      <td>1267</td>\n",
       "    </tr>\n",
       "    <tr>\n",
       "      <th>10952</th>\n",
       "      <td>014e695cc6df96011b90a5beb3206012</td>\n",
       "      <td>Ilaiyaraaja</td>\n",
       "      <td>1131</td>\n",
       "    </tr>\n",
       "    <tr>\n",
       "      <th>1357910</th>\n",
       "      <td>d993ff8f2de226e2c6803e47a22e9d7e</td>\n",
       "      <td>Lata Mangeshkar</td>\n",
       "      <td>1126</td>\n",
       "    </tr>\n",
       "  </tbody>\n",
       "</table>\n",
       "</div>"
      ],
      "text/plain": [
       "                                  user_id                  artist  freq\n",
       "246766   26b51e580277e131f87e4c7ee4c0887a  Vitamin String Quartet  1654\n",
       "1392284  defced0ece4ce946160b0d2698142eac  Vitamin String Quartet  1643\n",
       "412399   414050deadb38aafd8d4ad22ca634055  Vitamin String Quartet  1267\n",
       "10952    014e695cc6df96011b90a5beb3206012             Ilaiyaraaja  1131\n",
       "1357910  d993ff8f2de226e2c6803e47a22e9d7e         Lata Mangeshkar  1126"
      ]
     },
     "execution_count": 7,
     "metadata": {},
     "output_type": "execute_result"
    }
   ],
   "source": [
    "#group by to get the frequnecy count for each user and artist (# of times that an artist has appeared in playlists created by a user)\n",
    "size = lambda x: len(x)\n",
    "df_freq = df_playlist.groupby(['user_id', 'artist']).agg('size').reset_index().rename(columns={0:'freq'})[['user_id', 'artist', 'freq']].sort_values(['freq'], ascending=False)\n",
    "df_freq.head()\n"
   ]
  },
  {
   "cell_type": "code",
   "execution_count": 8,
   "metadata": {},
   "outputs": [
    {
     "data": {
      "text/html": [
       "<div>\n",
       "<style scoped>\n",
       "    .dataframe tbody tr th:only-of-type {\n",
       "        vertical-align: middle;\n",
       "    }\n",
       "\n",
       "    .dataframe tbody tr th {\n",
       "        vertical-align: top;\n",
       "    }\n",
       "\n",
       "    .dataframe thead th {\n",
       "        text-align: right;\n",
       "    }\n",
       "</style>\n",
       "<table border=\"1\" class=\"dataframe\">\n",
       "  <thead>\n",
       "    <tr style=\"text-align: right;\">\n",
       "      <th></th>\n",
       "      <th>artist_id</th>\n",
       "      <th>artist</th>\n",
       "    </tr>\n",
       "  </thead>\n",
       "  <tbody>\n",
       "    <tr>\n",
       "      <th>0</th>\n",
       "      <td>0</td>\n",
       "      <td>Vitamin String Quartet</td>\n",
       "    </tr>\n",
       "    <tr>\n",
       "      <th>1</th>\n",
       "      <td>1</td>\n",
       "      <td>Ilaiyaraaja</td>\n",
       "    </tr>\n",
       "    <tr>\n",
       "      <th>2</th>\n",
       "      <td>2</td>\n",
       "      <td>Lata Mangeshkar</td>\n",
       "    </tr>\n",
       "    <tr>\n",
       "      <th>3</th>\n",
       "      <td>3</td>\n",
       "      <td>Billie Holiday</td>\n",
       "    </tr>\n",
       "    <tr>\n",
       "      <th>4</th>\n",
       "      <td>4</td>\n",
       "      <td>Peggy Lee</td>\n",
       "    </tr>\n",
       "  </tbody>\n",
       "</table>\n",
       "</div>"
      ],
      "text/plain": [
       "   artist_id                  artist\n",
       "0          0  Vitamin String Quartet\n",
       "1          1             Ilaiyaraaja\n",
       "2          2         Lata Mangeshkar\n",
       "3          3          Billie Holiday\n",
       "4          4               Peggy Lee"
      ]
     },
     "execution_count": 8,
     "metadata": {},
     "output_type": "execute_result"
    }
   ],
   "source": [
    "#create a DF for artists and add artist id\n",
    "df_artist = pd.DataFrame(df_freq[\"artist\"].unique())\n",
    "df_artist = df_artist.reset_index()\n",
    "df_artist = df_artist.rename(columns={'index':'artist_id', 0:'artist'})\n",
    "df_artist.head()"
   ]
  },
  {
   "cell_type": "code",
   "execution_count": 9,
   "metadata": {},
   "outputs": [],
   "source": [
    "#merge\n",
    "df_freq  = pd.merge(df_freq , df_artist, how='inner', on='artist')"
   ]
  },
  {
   "cell_type": "code",
   "execution_count": 10,
   "metadata": {},
   "outputs": [
    {
     "data": {
      "text/html": [
       "<div>\n",
       "<style scoped>\n",
       "    .dataframe tbody tr th:only-of-type {\n",
       "        vertical-align: middle;\n",
       "    }\n",
       "\n",
       "    .dataframe tbody tr th {\n",
       "        vertical-align: top;\n",
       "    }\n",
       "\n",
       "    .dataframe thead th {\n",
       "        text-align: right;\n",
       "    }\n",
       "</style>\n",
       "<table border=\"1\" class=\"dataframe\">\n",
       "  <thead>\n",
       "    <tr style=\"text-align: right;\">\n",
       "      <th></th>\n",
       "      <th>user_id</th>\n",
       "      <th>artist</th>\n",
       "      <th>freq</th>\n",
       "      <th>artist_id</th>\n",
       "    </tr>\n",
       "  </thead>\n",
       "  <tbody>\n",
       "    <tr>\n",
       "      <th>0</th>\n",
       "      <td>26b51e580277e131f87e4c7ee4c0887a</td>\n",
       "      <td>Vitamin String Quartet</td>\n",
       "      <td>1654</td>\n",
       "      <td>0</td>\n",
       "    </tr>\n",
       "    <tr>\n",
       "      <th>1</th>\n",
       "      <td>defced0ece4ce946160b0d2698142eac</td>\n",
       "      <td>Vitamin String Quartet</td>\n",
       "      <td>1643</td>\n",
       "      <td>0</td>\n",
       "    </tr>\n",
       "    <tr>\n",
       "      <th>2</th>\n",
       "      <td>414050deadb38aafd8d4ad22ca634055</td>\n",
       "      <td>Vitamin String Quartet</td>\n",
       "      <td>1267</td>\n",
       "      <td>0</td>\n",
       "    </tr>\n",
       "    <tr>\n",
       "      <th>3</th>\n",
       "      <td>e78e1e7b93c32bc27bf458f6cb8a5554</td>\n",
       "      <td>Vitamin String Quartet</td>\n",
       "      <td>145</td>\n",
       "      <td>0</td>\n",
       "    </tr>\n",
       "    <tr>\n",
       "      <th>4</th>\n",
       "      <td>5ed466280594117226d840fed87a8bc6</td>\n",
       "      <td>Vitamin String Quartet</td>\n",
       "      <td>144</td>\n",
       "      <td>0</td>\n",
       "    </tr>\n",
       "  </tbody>\n",
       "</table>\n",
       "</div>"
      ],
      "text/plain": [
       "                            user_id                  artist  freq  artist_id\n",
       "0  26b51e580277e131f87e4c7ee4c0887a  Vitamin String Quartet  1654          0\n",
       "1  defced0ece4ce946160b0d2698142eac  Vitamin String Quartet  1643          0\n",
       "2  414050deadb38aafd8d4ad22ca634055  Vitamin String Quartet  1267          0\n",
       "3  e78e1e7b93c32bc27bf458f6cb8a5554  Vitamin String Quartet   145          0\n",
       "4  5ed466280594117226d840fed87a8bc6  Vitamin String Quartet   144          0"
      ]
     },
     "execution_count": 10,
     "metadata": {},
     "output_type": "execute_result"
    }
   ],
   "source": [
    "df_freq.head()"
   ]
  },
  {
   "cell_type": "code",
   "execution_count": 11,
   "metadata": {},
   "outputs": [],
   "source": [
    "#Helpers functions are from the repo below:\n",
    "#https://github.com/aayushmnit/cookbook/blob/master/recsys.py"
   ]
  },
  {
   "cell_type": "code",
   "execution_count": 12,
   "metadata": {},
   "outputs": [],
   "source": [
    "def create_interaction_matrix(df,user_col, item_col, rating_col, norm= False, threshold = None):\n",
    "    '''\n",
    "    Function to create an interaction matrix dataframe from transactional type interactions\n",
    "    Required Input -\n",
    "        - df = Pandas DataFrame containing user-item interactions\n",
    "        - user_col = column name containing user's identifier\n",
    "        - item_col = column name containing item's identifier\n",
    "        - rating col = column name containing user feedback on interaction with a given item\n",
    "        - norm (optional) = True if a normalization of ratings is needed\n",
    "        - threshold (required if norm = True) = value above which the rating is favorable\n",
    "    Expected output - \n",
    "        - Pandas dataframe with user-item interactions ready to be fed in a recommendation algorithm\n",
    "    '''\n",
    "    interactions = df.groupby([user_col, item_col])[rating_col] \\\n",
    "            .sum().unstack().reset_index(). \\\n",
    "            fillna(0).set_index(user_col)\n",
    "    if norm:\n",
    "        interactions = interactions.applymap(lambda x: 1 if x > threshold else 0)\n",
    "    return interactions\n",
    "\n",
    "# https://github.com/aayushmnit/cookbook/blob/master/recsys.py\n",
    "def create_user_dict(interactions):\n",
    "    '''\n",
    "    Function to create a user dictionary based on their index and number in interaction dataset\n",
    "    Required Input - \n",
    "        interactions - dataset create by create_interaction_matrix\n",
    "    Expected Output -\n",
    "        user_dict - Dictionary type output containing interaction_index as key and user_id as value\n",
    "    '''\n",
    "    user_id = list(interactions.index)\n",
    "    user_dict = {}\n",
    "    counter = 0 \n",
    "    for i in user_id:\n",
    "        user_dict[i] = counter\n",
    "        counter += 1\n",
    "    return user_dict\n",
    "\n",
    "\n",
    "# https://github.com/aayushmnit/cookbook/blob/master/recsys.py\n",
    "def create_item_dict(df,id_col,name_col):\n",
    "    '''\n",
    "    Function to create an item dictionary based on their item_id and item name\n",
    "    Required Input - \n",
    "        - df = Pandas dataframe with Item information\n",
    "        - id_col = Column name containing unique identifier for an item\n",
    "        - name_col = Column name containing name of the item\n",
    "    Expected Output -\n",
    "        item_dict = Dictionary type output containing item_id as key and item_name as value\n",
    "    '''\n",
    "    item_dict ={}\n",
    "    for i in range(df.shape[0]):\n",
    "        item_dict[(df.loc[i,id_col])] = df.loc[i,name_col]\n",
    "    return item_dict\n",
    "\n",
    "# https://github.com/aayushmnit/cookbook/blob/master/recsys.py\n",
    "def runMF(interactions, n_components=30, loss='warp', k=15, epoch=30,n_jobs = 4):\n",
    "    '''\n",
    "    Function to run matrix-factorization algorithm\n",
    "    Required Input -\n",
    "        - interactions = dataset create by create_interaction_matrix\n",
    "        - n_components = number of embeddings you want to create to define Item and user\n",
    "        - loss = loss function other options are logistic, brp\n",
    "        - epoch = number of epochs to run \n",
    "        - n_jobs = number of cores used for execution \n",
    "    Expected Output  -\n",
    "        Model - Trained model\n",
    "    '''\n",
    "    \n",
    "    #uncommented for train test split\n",
    "#     x = sparse.csr_matrix(interactions.values)\n",
    "    model = LightFM(no_components= n_components, loss=loss,k=k)\n",
    "    model.fit(x,epochs=epoch,num_threads = n_jobs)\n",
    "    return model\n",
    "\n",
    "# https://github.com/aayushmnit/cookbook/blob/master/recsys.py\n",
    "def sample_recommendation_user(model, interactions, user_id, user_dict, \n",
    "                               item_dict,threshold = 0,nrec_items = 10, show = True):\n",
    "    '''\n",
    "    Function to produce user recommendations\n",
    "    Required Input - \n",
    "        - model = Trained matrix factorization model\n",
    "        - interactions = dataset used for training the model\n",
    "        - user_id = user ID for which we need to generate recommendation\n",
    "        - user_dict = Dictionary type input containing interaction_index as key and user_id as value\n",
    "        - item_dict = Dictionary type input containing item_id as key and item_name as value\n",
    "        - threshold = value above which the rating is favorable in new interaction matrix\n",
    "        - nrec_items = Number of output recommendation needed\n",
    "    Expected Output - \n",
    "        - Prints list of items the given user has already bought\n",
    "        - Prints list of N recommended items  which user hopefully will be interested in\n",
    "    '''\n",
    "    n_users, n_items = interactions.shape\n",
    "    user_x = user_dict[user_id]\n",
    "    scores = pd.Series(model.predict(user_x,np.arange(n_items)))\n",
    "    scores.index = interactions.columns\n",
    "    scores = list(pd.Series(scores.sort_values(ascending=False).index))\n",
    "    \n",
    "    known_items = list(pd.Series(interactions.loc[user_id,:] \\\n",
    "                                 [interactions.loc[user_id,:] > threshold].index) \\\n",
    "\t\t\t\t\t\t\t\t .sort_values(ascending=False))\n",
    "    \n",
    "    scores = [x for x in scores if x not in known_items]\n",
    "    return_score_list = scores[0:nrec_items]\n",
    "    known_items = list(pd.Series(known_items).apply(lambda x: item_dict[x]))\n",
    "    scores = list(pd.Series(return_score_list).apply(lambda x: item_dict[x]))\n",
    "    if show == True:\n",
    "        print(\"Known Likes:\")\n",
    "        counter = 1\n",
    "        for i in known_items:\n",
    "            print(str(counter) + '- ' + i)\n",
    "            counter+=1\n",
    "\n",
    "        print(\"\\n Recommended Items:\")\n",
    "        counter = 1\n",
    "        for i in scores:\n",
    "            print(str(counter) + '- ' + i)\n",
    "            counter+=1\n",
    "    return return_score_list\n",
    "    \n",
    "#https://github.com/Lab41/hermes/blob/master/src/algorithms/performance_metrics.py\n",
    "def calculate_population_category_diversity(y_predicted, content_array):\n",
    "    \"\"\"\n",
    "    The higher the category diversity the better.\n",
    "    Function determines the total sum of the categories for all people (rating_array).\n",
    "    So for a random group of users resulting in 330 predictions in MovieLens this could look like:\n",
    "        [71, 34, 11, 22, 126, 128, 0, 165, 21, 0, 35, 0, 62, 100, 5, 131, 3, 0]\n",
    "    The average of each component (by total number of predictions) is then taken\n",
    "        [0.21, 0.1, 0.03....0]\n",
    "    The component averages are summed\n",
    "        2.79\n",
    "    Finally a scaling factor is utilized to take into consideration the number of categories and the average categories for an item\n",
    "        0.31\n",
    "    This final step is to help normalize across datasets where some may have many more/less categories and/or more/less dense item categorization\n",
    "    Args:\n",
    "        y_predicted: predicted ratings in the format of a RDD of [ (userId, itemId, predictedRating) ]. Should be the n predicted ratings\n",
    "        content_array: content feature array of the items which should be in the format of (item [content_feature vector])\n",
    "    Returns:\n",
    "        cat_diversity:\n",
    "    \"\"\"\n",
    "    ave_coverage = content_array.map(lambda id, array: sum(array)).mean()\n",
    "    rating_array_raw = y_predicted.keyBy(lambda row: row[1]).join(content_array).map(lambda id, rating, array: array).collect()\n",
    "    rating_array = map(sum,zip(*np.array(rating_array_raw)))\n",
    "    cat_diversity = sum([r/float(len(rating_array_raw)) for r in rating_array])*ave_coverage/float(len(rating_array))\n",
    "\n",
    "    return cat_diversity"
   ]
  },
  {
   "cell_type": "code",
   "execution_count": 13,
   "metadata": {},
   "outputs": [
    {
     "data": {
      "text/html": [
       "<div>\n",
       "<style scoped>\n",
       "    .dataframe tbody tr th:only-of-type {\n",
       "        vertical-align: middle;\n",
       "    }\n",
       "\n",
       "    .dataframe tbody tr th {\n",
       "        vertical-align: top;\n",
       "    }\n",
       "\n",
       "    .dataframe thead th {\n",
       "        text-align: right;\n",
       "    }\n",
       "</style>\n",
       "<table border=\"1\" class=\"dataframe\">\n",
       "  <thead>\n",
       "    <tr style=\"text-align: right;\">\n",
       "      <th>artist_id</th>\n",
       "      <th>0</th>\n",
       "      <th>1</th>\n",
       "      <th>2</th>\n",
       "      <th>3</th>\n",
       "      <th>4</th>\n",
       "      <th>5</th>\n",
       "      <th>6</th>\n",
       "      <th>7</th>\n",
       "      <th>8</th>\n",
       "      <th>9</th>\n",
       "      <th>...</th>\n",
       "      <th>14270</th>\n",
       "      <th>14271</th>\n",
       "      <th>14272</th>\n",
       "      <th>14273</th>\n",
       "      <th>14274</th>\n",
       "      <th>14275</th>\n",
       "      <th>14276</th>\n",
       "      <th>14277</th>\n",
       "      <th>14278</th>\n",
       "      <th>14279</th>\n",
       "    </tr>\n",
       "    <tr>\n",
       "      <th>user_id</th>\n",
       "      <th></th>\n",
       "      <th></th>\n",
       "      <th></th>\n",
       "      <th></th>\n",
       "      <th></th>\n",
       "      <th></th>\n",
       "      <th></th>\n",
       "      <th></th>\n",
       "      <th></th>\n",
       "      <th></th>\n",
       "      <th></th>\n",
       "      <th></th>\n",
       "      <th></th>\n",
       "      <th></th>\n",
       "      <th></th>\n",
       "      <th></th>\n",
       "      <th></th>\n",
       "      <th></th>\n",
       "      <th></th>\n",
       "      <th></th>\n",
       "      <th></th>\n",
       "    </tr>\n",
       "  </thead>\n",
       "  <tbody>\n",
       "    <tr>\n",
       "      <th>00055176fea33f6e027cd3302289378b</th>\n",
       "      <td>0.0</td>\n",
       "      <td>0.0</td>\n",
       "      <td>0.0</td>\n",
       "      <td>0.0</td>\n",
       "      <td>0.0</td>\n",
       "      <td>0.0</td>\n",
       "      <td>0.0</td>\n",
       "      <td>0.0</td>\n",
       "      <td>0.0</td>\n",
       "      <td>0.0</td>\n",
       "      <td>...</td>\n",
       "      <td>0.0</td>\n",
       "      <td>0.0</td>\n",
       "      <td>0.0</td>\n",
       "      <td>0.0</td>\n",
       "      <td>0.0</td>\n",
       "      <td>0.0</td>\n",
       "      <td>0.0</td>\n",
       "      <td>0.0</td>\n",
       "      <td>0.0</td>\n",
       "      <td>0.0</td>\n",
       "    </tr>\n",
       "    <tr>\n",
       "      <th>0007f3dd09c91198371454c608d47f22</th>\n",
       "      <td>0.0</td>\n",
       "      <td>0.0</td>\n",
       "      <td>0.0</td>\n",
       "      <td>0.0</td>\n",
       "      <td>0.0</td>\n",
       "      <td>0.0</td>\n",
       "      <td>0.0</td>\n",
       "      <td>0.0</td>\n",
       "      <td>0.0</td>\n",
       "      <td>0.0</td>\n",
       "      <td>...</td>\n",
       "      <td>0.0</td>\n",
       "      <td>0.0</td>\n",
       "      <td>0.0</td>\n",
       "      <td>0.0</td>\n",
       "      <td>0.0</td>\n",
       "      <td>0.0</td>\n",
       "      <td>0.0</td>\n",
       "      <td>0.0</td>\n",
       "      <td>0.0</td>\n",
       "      <td>0.0</td>\n",
       "    </tr>\n",
       "    <tr>\n",
       "      <th>000b0f32b5739f052b9d40fcc5c41079</th>\n",
       "      <td>0.0</td>\n",
       "      <td>0.0</td>\n",
       "      <td>0.0</td>\n",
       "      <td>0.0</td>\n",
       "      <td>0.0</td>\n",
       "      <td>0.0</td>\n",
       "      <td>0.0</td>\n",
       "      <td>0.0</td>\n",
       "      <td>0.0</td>\n",
       "      <td>0.0</td>\n",
       "      <td>...</td>\n",
       "      <td>0.0</td>\n",
       "      <td>0.0</td>\n",
       "      <td>0.0</td>\n",
       "      <td>0.0</td>\n",
       "      <td>0.0</td>\n",
       "      <td>0.0</td>\n",
       "      <td>0.0</td>\n",
       "      <td>0.0</td>\n",
       "      <td>0.0</td>\n",
       "      <td>0.0</td>\n",
       "    </tr>\n",
       "    <tr>\n",
       "      <th>000c11a16c89aa4b14b328080f5954ee</th>\n",
       "      <td>0.0</td>\n",
       "      <td>0.0</td>\n",
       "      <td>0.0</td>\n",
       "      <td>6.0</td>\n",
       "      <td>0.0</td>\n",
       "      <td>0.0</td>\n",
       "      <td>0.0</td>\n",
       "      <td>0.0</td>\n",
       "      <td>0.0</td>\n",
       "      <td>0.0</td>\n",
       "      <td>...</td>\n",
       "      <td>0.0</td>\n",
       "      <td>0.0</td>\n",
       "      <td>0.0</td>\n",
       "      <td>0.0</td>\n",
       "      <td>0.0</td>\n",
       "      <td>0.0</td>\n",
       "      <td>0.0</td>\n",
       "      <td>0.0</td>\n",
       "      <td>0.0</td>\n",
       "      <td>0.0</td>\n",
       "    </tr>\n",
       "    <tr>\n",
       "      <th>00123e0f544dee3ab006aa7f1e5725a7</th>\n",
       "      <td>0.0</td>\n",
       "      <td>0.0</td>\n",
       "      <td>0.0</td>\n",
       "      <td>0.0</td>\n",
       "      <td>0.0</td>\n",
       "      <td>22.0</td>\n",
       "      <td>0.0</td>\n",
       "      <td>85.0</td>\n",
       "      <td>0.0</td>\n",
       "      <td>0.0</td>\n",
       "      <td>...</td>\n",
       "      <td>0.0</td>\n",
       "      <td>0.0</td>\n",
       "      <td>0.0</td>\n",
       "      <td>0.0</td>\n",
       "      <td>0.0</td>\n",
       "      <td>0.0</td>\n",
       "      <td>0.0</td>\n",
       "      <td>0.0</td>\n",
       "      <td>0.0</td>\n",
       "      <td>0.0</td>\n",
       "    </tr>\n",
       "  </tbody>\n",
       "</table>\n",
       "<p>5 rows × 14280 columns</p>\n",
       "</div>"
      ],
      "text/plain": [
       "artist_id                         0      1      2      3      4      5      \\\n",
       "user_id                                                                      \n",
       "00055176fea33f6e027cd3302289378b    0.0    0.0    0.0    0.0    0.0    0.0   \n",
       "0007f3dd09c91198371454c608d47f22    0.0    0.0    0.0    0.0    0.0    0.0   \n",
       "000b0f32b5739f052b9d40fcc5c41079    0.0    0.0    0.0    0.0    0.0    0.0   \n",
       "000c11a16c89aa4b14b328080f5954ee    0.0    0.0    0.0    6.0    0.0    0.0   \n",
       "00123e0f544dee3ab006aa7f1e5725a7    0.0    0.0    0.0    0.0    0.0   22.0   \n",
       "\n",
       "artist_id                         6      7      8      9      ...  14270  \\\n",
       "user_id                                                       ...          \n",
       "00055176fea33f6e027cd3302289378b    0.0    0.0    0.0    0.0  ...    0.0   \n",
       "0007f3dd09c91198371454c608d47f22    0.0    0.0    0.0    0.0  ...    0.0   \n",
       "000b0f32b5739f052b9d40fcc5c41079    0.0    0.0    0.0    0.0  ...    0.0   \n",
       "000c11a16c89aa4b14b328080f5954ee    0.0    0.0    0.0    0.0  ...    0.0   \n",
       "00123e0f544dee3ab006aa7f1e5725a7    0.0   85.0    0.0    0.0  ...    0.0   \n",
       "\n",
       "artist_id                         14271  14272  14273  14274  14275  14276  \\\n",
       "user_id                                                                      \n",
       "00055176fea33f6e027cd3302289378b    0.0    0.0    0.0    0.0    0.0    0.0   \n",
       "0007f3dd09c91198371454c608d47f22    0.0    0.0    0.0    0.0    0.0    0.0   \n",
       "000b0f32b5739f052b9d40fcc5c41079    0.0    0.0    0.0    0.0    0.0    0.0   \n",
       "000c11a16c89aa4b14b328080f5954ee    0.0    0.0    0.0    0.0    0.0    0.0   \n",
       "00123e0f544dee3ab006aa7f1e5725a7    0.0    0.0    0.0    0.0    0.0    0.0   \n",
       "\n",
       "artist_id                         14277  14278  14279  \n",
       "user_id                                                \n",
       "00055176fea33f6e027cd3302289378b    0.0    0.0    0.0  \n",
       "0007f3dd09c91198371454c608d47f22    0.0    0.0    0.0  \n",
       "000b0f32b5739f052b9d40fcc5c41079    0.0    0.0    0.0  \n",
       "000c11a16c89aa4b14b328080f5954ee    0.0    0.0    0.0  \n",
       "00123e0f544dee3ab006aa7f1e5725a7    0.0    0.0    0.0  \n",
       "\n",
       "[5 rows x 14280 columns]"
      ]
     },
     "execution_count": 13,
     "metadata": {},
     "output_type": "execute_result"
    }
   ],
   "source": [
    "#prep data\n",
    "\n",
    "interactions = create_interaction_matrix(df = df_freq, user_col = \"user_id\", item_col = 'artist_id', rating_col = 'freq', norm= False, threshold = None)\n",
    "interactions.head()\n",
    "#interactions.shape"
   ]
  },
  {
   "cell_type": "code",
   "execution_count": null,
   "metadata": {},
   "outputs": [],
   "source": [
    "#create user dict\n",
    "\n",
    "user_dict = create_user_dict(interactions=interactions)"
   ]
  },
  {
   "cell_type": "code",
   "execution_count": 15,
   "metadata": {},
   "outputs": [],
   "source": [
    "artists_dict = create_item_dict(df = df_artist, id_col = 'artist_id', name_col = 'artist')"
   ]
  },
  {
   "cell_type": "code",
   "execution_count": 16,
   "metadata": {},
   "outputs": [],
   "source": [
    "#train-test split\n",
    "\n",
    "x = sparse.csr_matrix(interactions.values)\n",
    "train, test = lightfm.cross_validation.random_train_test_split(x, test_percentage=0.2, random_state=None)"
   ]
  },
  {
   "cell_type": "code",
   "execution_count": 17,
   "metadata": {},
   "outputs": [
    {
     "name": "stdout",
     "output_type": "stream",
     "text": [
      "CPU times: total: 0 ns\n",
      "Wall time: 1.07 ms\n"
     ]
    }
   ],
   "source": [
    "#train model (Matrix Factorization)\n",
    "\n",
    "%time\n",
    "model = runMF(interactions = train,\n",
    "                 n_components = 30,\n",
    "                 loss = 'warp',\n",
    "                 k = 10,\n",
    "                 epoch = 30,\n",
    "                 n_jobs = 4)"
   ]
  },
  {
   "cell_type": "code",
   "execution_count": 24,
   "metadata": {},
   "outputs": [
    {
     "name": "stdout",
     "output_type": "stream",
     "text": [
      "CPU times: total: 0 ns\n",
      "Wall time: 0 ns\n"
     ]
    }
   ],
   "source": [
    "%time\n",
    "model2 = runMF(interactions = train,\n",
    "                 n_components = 30,\n",
    "                 loss = 'warp',\n",
    "                 k = 10,\n",
    "                 epoch = 15,\n",
    "                 n_jobs = 4)"
   ]
  },
  {
   "cell_type": "code",
   "execution_count": 17,
   "metadata": {},
   "outputs": [],
   "source": [
    "# save the model to disk\n",
    "#filename = 'rec_artists_model.sav'\n",
    "#pickle.dump(model, open(filename, 'wb'))"
   ]
  },
  {
   "cell_type": "code",
   "execution_count": 18,
   "metadata": {},
   "outputs": [],
   "source": [
    "# load the model from disk\n",
    "#model = pickle.load(open(filename, 'rb'))"
   ]
  },
  {
   "cell_type": "markdown",
   "metadata": {},
   "source": [
    "##  Evaluation of our model"
   ]
  },
  {
   "cell_type": "markdown",
   "metadata": {},
   "source": [
    "Actual recommendation example"
   ]
  },
  {
   "cell_type": "code",
   "execution_count": 36,
   "metadata": {},
   "outputs": [
    {
     "name": "stdout",
     "output_type": "stream",
     "text": [
      "Known Likes:\n",
      "1- The Protomen\n",
      "2- Dead Man's Bones\n",
      "3- Salem\n",
      "4- Birdy\n",
      "5- Astronautalis\n",
      "6- Burial\n",
      "7- Ben Howard\n",
      "8- James Blake\n",
      "9- Caribou\n",
      "10- Mew\n",
      "11- Beyoncé\n",
      "\n",
      " Recommended Items:\n",
      "1- Lana Del Rey\n",
      "2- M83\n",
      "3- The xx\n",
      "4- Bon Iver\n",
      "5- Grimes\n",
      "6- Arcade Fire\n",
      "7- Radiohead\n",
      "8- Lykke Li\n",
      "9- Daft Punk\n",
      "10- Purity Ring\n"
     ]
    }
   ],
   "source": [
    "#example\n",
    "rec_list = sample_recommendation_user(model = model, \n",
    "                                      interactions = interactions, \n",
    "                                      user_id = '0059ac6b3ba3c3f415f09059a3bd703a', \n",
    "                                      user_dict = user_dict,\n",
    "                                      item_dict = artists_dict, \n",
    "                                      threshold = 0,\n",
    "                                      nrec_items = 10,\n",
    "                                      show = True)"
   ]
  },
  {
   "cell_type": "code",
   "execution_count": 19,
   "metadata": {},
   "outputs": [],
   "source": [
    "# defining evaluation functions:\n",
    "\n",
    "# this function calculates the AP for specific k and then takes the mean ---> mAP\n",
    "def precision_recall_curve(y_true, rec_model, thresholds):\n",
    "    precisions = []\n",
    "    recalls = []\n",
    "    \n",
    "    for threshold in thresholds:\n",
    "\n",
    "        precision = precision_at_k(model, y_true, k=threshold).mean()\n",
    "        recall = lightfm.evaluation.recall_at_k(model, y_true, k=threshold).mean()\n",
    "        \n",
    "        precisions.append(precision)\n",
    "        recalls.append(recall)\n",
    "\n",
    "    return precisions, recalls\n",
    "    \n",
    "def evaluate_my_lightfm_model(lfm_model,train,test,k,k_list):\n",
    "    #evaluate light fm model \n",
    "    # \n",
    "    # Input: lfm_model: light fm model, train: train set, test: test set, k: chosen specific k (n-rank) for calculating AP and AR\n",
    "    # k_list: list of k values to calculate mAP and mAR\n",
    "    # Output: metrics AUC, AP and AR for specific k,F-score,mAR,mAP, for train and test,\n",
    "\n",
    "    #AUC\n",
    "\n",
    "    train_auc = auc_score(lfm_model, train, num_threads=4).mean()\n",
    "    print('Train AUC: %s' % train_auc)\n",
    "\n",
    "\n",
    "    test_auc = auc_score(lfm_model, test, train_interactions=train, num_threads=4).mean()\n",
    "    print('Test AUC: %s' % test_auc)\n",
    "\n",
    "    #AP\n",
    "\n",
    "    train_precision = precision_at_k(lfm_model, train, k=10).mean()\n",
    "    test_precision = precision_at_k(lfm_model, test, k=10).mean()\n",
    "    print('for k=',k)\n",
    "    print('Average Precision: train %.2f, test %.2f.' % (train_precision, test_precision))\n",
    "\n",
    "    #AR\n",
    "\n",
    "    train_recall= lightfm.evaluation.recall_at_k(lfm_model, train, k=10).mean()\n",
    "    test_recall = lightfm.evaluation.recall_at_k(lfm_model, test, k=10).mean()\n",
    "    print('Average Recall: train %.2f, test %.2f.' % (train_recall, test_recall))\n",
    "    \n",
    "    #F-score\n",
    "    train_F1 = 2*(train_precision*train_recall)/(train_precision+train_recall)\n",
    "    test_F1 = 2*(test_precision*test_recall)/(test_precision+test_recall)\n",
    "    print('F1: train %.2f, test %.2f.' % (train_F1, test_F1))\n",
    "\n",
    "    #thresholds = [1,3,5,7,9,10,12,14,16]\n",
    "\n",
    "    #map and mar\n",
    "    precisions, recalls = precision_recall_curve(y_true=test, \n",
    "                                             rec_model=lfm_model,\n",
    "                                             thresholds=k_list)\n",
    "    print('mAP: test %.2f,mAR: test %.2f.' % (np.mean(precisions), np.mean(recalls)))\n"
   ]
  },
  {
   "cell_type": "code",
   "execution_count": 21,
   "metadata": {},
   "outputs": [],
   "source": [
    "k_list = [1,3,5,7,9,10,12,14,16]\n",
    "k = 10"
   ]
  },
  {
   "cell_type": "markdown",
   "metadata": {},
   "source": [
    "for model with 30 epochs and warp loss function:\n",
    "\n"
   ]
  },
  {
   "cell_type": "code",
   "execution_count": 22,
   "metadata": {},
   "outputs": [
    {
     "name": "stdout",
     "output_type": "stream",
     "text": [
      "Train AUC: 0.96672505\n",
      "Test AUC: 0.967067\n",
      "for k= 10\n",
      "Average Precision: train 0.40, test 0.10.\n",
      "Average Recall: train 0.07, test 0.07.\n",
      "F1: train 0.12, test 0.08.\n",
      "mAP: test 0.10,mAR: test 0.06.\n"
     ]
    }
   ],
   "source": [
    "evaluate_my_lightfm_model(model,train,test,k,k_list)"
   ]
  },
  {
   "cell_type": "markdown",
   "metadata": {},
   "source": [
    "for the model with 15 epochs and warp loss function:"
   ]
  },
  {
   "cell_type": "code",
   "execution_count": 25,
   "metadata": {},
   "outputs": [
    {
     "name": "stdout",
     "output_type": "stream",
     "text": [
      "Train AUC: 0.9595474\n",
      "Test AUC: 0.9597996\n",
      "for k= 10\n",
      "Average Precision: train 0.38, test 0.10.\n",
      "Average Recall: train 0.06, test 0.06.\n",
      "F1: train 0.11, test 0.08.\n",
      "mAP: test 0.10,mAR: test 0.06.\n"
     ]
    }
   ],
   "source": [
    "evaluate_my_lightfm_model(model2,train,test,k,k_list)"
   ]
  },
  {
   "cell_type": "markdown",
   "metadata": {},
   "source": [
    "for the model with 30 epochs and warp brp function:"
   ]
  },
  {
   "cell_type": "code",
   "execution_count": 27,
   "metadata": {},
   "outputs": [
    {
     "name": "stdout",
     "output_type": "stream",
     "text": [
      "CPU times: total: 0 ns\n",
      "Wall time: 0 ns\n",
      "Train AUC: 0.92326266\n",
      "Test AUC: 0.9230062\n",
      "for k= 10\n",
      "Average Precision: train 0.36, test 0.09.\n",
      "Average Recall: train 0.06, test 0.06.\n",
      "F1: train 0.11, test 0.07.\n",
      "mAP: test 0.10,mAR: test 0.06.\n"
     ]
    }
   ],
   "source": [
    "%time\n",
    "model3 = runMF(interactions = train,\n",
    "                 n_components = 30,\n",
    "                 loss = 'bpr',\n",
    "                 k = 10,\n",
    "                 epoch = 30,\n",
    "                 n_jobs = 4)\n",
    "\n",
    "evaluate_my_lightfm_model(model3,train,test,k,k_list)"
   ]
  },
  {
   "cell_type": "markdown",
   "metadata": {},
   "source": [
    "Evaluation metrics (experimenting):"
   ]
  },
  {
   "cell_type": "markdown",
   "metadata": {},
   "source": [
    "AUC"
   ]
  },
  {
   "cell_type": "code",
   "execution_count": 37,
   "metadata": {},
   "outputs": [
    {
     "name": "stdout",
     "output_type": "stream",
     "text": [
      "Train AUC: 0.9668799\n",
      "Test AUC: 0.96759695\n"
     ]
    }
   ],
   "source": [
    "print('model 1:')\n",
    "train_auc = auc_score(model, train, num_threads=4).mean()\n",
    "print('Train AUC: %s' % train_auc)\n",
    "\n",
    "\n",
    "test_auc = auc_score(model, test, train_interactions=train, num_threads=4).mean()\n",
    "print('Test AUC: %s' % test_auc)"
   ]
  },
  {
   "cell_type": "markdown",
   "metadata": {},
   "source": [
    "Mean Precision for top 10 choices\n",
    "\n",
    "Measure of exactness, determines the fraction of relevant items retrieved out of all timems retrieved"
   ]
  },
  {
   "cell_type": "code",
   "execution_count": 38,
   "metadata": {},
   "outputs": [
    {
     "name": "stdout",
     "output_type": "stream",
     "text": [
      "Precision: train 0.40, test 0.10.\n"
     ]
    }
   ],
   "source": [
    "train_precision = precision_at_k(model, train, k=10).mean()\n",
    "test_precision = precision_at_k(model, test, k=10).mean()\n",
    "print('Precision: train %.2f, test %.2f.' % (train_precision, test_precision))"
   ]
  },
  {
   "cell_type": "markdown",
   "metadata": {},
   "source": [
    "Mean Recall for top 10 choices\n",
    "\n",
    "Measure of completeness, determines the fraction of relevant items retrieved out of all relevant items"
   ]
  },
  {
   "cell_type": "code",
   "execution_count": 42,
   "metadata": {},
   "outputs": [
    {
     "name": "stdout",
     "output_type": "stream",
     "text": [
      "Recall: train 0.07, test 0.07.\n"
     ]
    }
   ],
   "source": [
    "train_recall= lightfm.evaluation.recall_at_k(model, train, k=10).mean()\n",
    "test_recall = lightfm.evaluation.recall_at_k(model, test, k=10).mean()\n",
    "print('Recall: train %.2f, test %.2f.' % (train_recall, test_recall))"
   ]
  },
  {
   "cell_type": "code",
   "execution_count": 32,
   "metadata": {},
   "outputs": [],
   "source": [
    "#looks like our algorithm is very selective"
   ]
  },
  {
   "cell_type": "markdown",
   "metadata": {},
   "source": [
    "F1 measure"
   ]
  },
  {
   "cell_type": "code",
   "execution_count": 40,
   "metadata": {},
   "outputs": [
    {
     "name": "stdout",
     "output_type": "stream",
     "text": [
      "F1: train 0.12, test 0.08.\n"
     ]
    }
   ],
   "source": [
    "train_F1 = 2*(train_precision*train_recall)/(train_precision+train_recall)\n",
    "test_F1 = 2*(test_precision*test_recall)/(test_precision+test_recall)\n",
    "print('F1: train %.2f, test %.2f.' % (train_F1, test_F1))"
   ]
  },
  {
   "cell_type": "markdown",
   "metadata": {},
   "source": [
    "mAP calculation"
   ]
  },
  {
   "cell_type": "code",
   "execution_count": 1,
   "metadata": {},
   "outputs": [],
   "source": [
    "# this functions calculates the AP for specific k and then takes the mean ---> mAP\n",
    "def precision_recall_curve(y_true, rec_model, thresholds):\n",
    "    precisions = []\n",
    "    recalls = []\n",
    "    \n",
    "    for threshold in thresholds:\n",
    "\n",
    "        precision = precision_at_k(model, y_true, k=threshold).mean()\n",
    "        recall = lightfm.evaluation.recall_at_k(model, y_true, k=threshold).mean()\n",
    "        \n",
    "        precisions.append(precision)\n",
    "        recalls.append(recall)\n",
    "\n",
    "    return precisions, recalls"
   ]
  },
  {
   "cell_type": "code",
   "execution_count": 47,
   "metadata": {},
   "outputs": [],
   "source": [
    "# thresholds are the k s\n",
    "thresholds = [1,3,5,7,9,10,12,14,16]\n",
    "\n",
    "precisions, recalls = precision_recall_curve(y_true=test, \n",
    "                                             rec_model=model,\n",
    "                                             thresholds=thresholds)"
   ]
  },
  {
   "cell_type": "code",
   "execution_count": 53,
   "metadata": {},
   "outputs": [
    {
     "name": "stdout",
     "output_type": "stream",
     "text": [
      "[0.11951447, 0.1112408, 0.10806101, 0.10471967, 0.10117751, 0.099610955, 0.09736487, 0.0951714, 0.09325397]\n",
      "[0.009373848084690845, 0.02449769715409561, 0.03818192370015055, 0.05193485524191177, 0.06366570259700906, 0.06909975028537942, 0.07938703274282129, 0.08940442891123486, 0.09957145868477144]\n"
     ]
    }
   ],
   "source": [
    "print('Average Precesions:')\n",
    "print(precisions)\n",
    "print('Average Recalls:')\n",
    "print(recalls)"
   ]
  },
  {
   "cell_type": "code",
   "execution_count": 52,
   "metadata": {},
   "outputs": [
    {
     "name": "stdout",
     "output_type": "stream",
     "text": [
      "mAP: test 0.10,mAR: test 0.06.\n"
     ]
    }
   ],
   "source": [
    "print('mAP: test %.2f,mAR: test %.2f.' % (np.mean(precisions), np.mean(recalls)))"
   ]
  },
  {
   "cell_type": "code",
   "execution_count": null,
   "metadata": {},
   "outputs": [],
   "source": [
    "# Next make two models\n",
    "# Compare Preccision and Recall curves\n",
    "# mAP is the mean for all the averages of ks"
   ]
  }
 ],
 "metadata": {
  "kernelspec": {
   "display_name": "Python 3.9.7 ('Music-Recommender-System-KBCNrsiN')",
   "language": "python",
   "name": "python3"
  },
  "language_info": {
   "codemirror_mode": {
    "name": "ipython",
    "version": 3
   },
   "file_extension": ".py",
   "mimetype": "text/x-python",
   "name": "python",
   "nbconvert_exporter": "python",
   "pygments_lexer": "ipython3",
   "version": "3.9.7"
  },
  "orig_nbformat": 4,
  "vscode": {
   "interpreter": {
    "hash": "0b2292f2debe4495439302d10a5a9c53b2664a566bc74517ae468b343c86f20d"
   }
  }
 },
 "nbformat": 4,
 "nbformat_minor": 2
}
